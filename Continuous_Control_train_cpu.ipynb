{
 "cells": [
  {
   "cell_type": "markdown",
   "metadata": {},
   "source": [
    "# Continuous Control\n",
    "\n",
    "---\n",
    "\n",
    "In this notebook, you will learn how to use the Unity ML-Agents environment for the second project of the [Deep Reinforcement Learning Nanodegree](https://www.udacity.com/course/deep-reinforcement-learning-nanodegree--nd893) program.\n",
    "\n",
    "### 1. Start the Environment\n",
    "\n",
    "We begin by importing the necessary packages.  If the code cell below returns an error, please revisit the project instructions to double-check that you have installed [Unity ML-Agents](https://github.com/Unity-Technologies/ml-agents/blob/master/docs/Installation.md) and [NumPy](http://www.numpy.org/)."
   ]
  },
  {
   "cell_type": "code",
   "execution_count": 1,
   "metadata": {},
   "outputs": [],
   "source": [
    "from unityagents import UnityEnvironment\n",
    "import numpy as np"
   ]
  },
  {
   "cell_type": "markdown",
   "metadata": {},
   "source": [
    "Next, we will start the environment!  **_Before running the code cell below_**, change the `file_name` parameter to match the location of the Unity environment that you downloaded.\n",
    "\n",
    "- **Mac**: `\"path/to/Reacher.app\"`\n",
    "- **Windows** (x86): `\"path/to/Reacher_Windows_x86/Reacher.exe\"`\n",
    "- **Windows** (x86_64): `\"path/to/Reacher_Windows_x86_64/Reacher.exe\"`\n",
    "- **Linux** (x86): `\"path/to/Reacher_Linux/Reacher.x86\"`\n",
    "- **Linux** (x86_64): `\"path/to/Reacher_Linux/Reacher.x86_64\"`\n",
    "- **Linux** (x86, headless): `\"path/to/Reacher_Linux_NoVis/Reacher.x86\"`\n",
    "- **Linux** (x86_64, headless): `\"path/to/Reacher_Linux_NoVis/Reacher.x86_64\"`\n",
    "\n",
    "For instance, if you are using a Mac, then you downloaded `Reacher.app`.  If this file is in the same folder as the notebook, then the line below should appear as follows:\n",
    "```\n",
    "env = UnityEnvironment(file_name=\"Reacher.app\")\n",
    "```"
   ]
  },
  {
   "cell_type": "code",
   "execution_count": 2,
   "metadata": {},
   "outputs": [
    {
     "name": "stderr",
     "output_type": "stream",
     "text": [
      "INFO:unityagents:\n",
      "'Academy' started successfully!\n",
      "Unity Academy name: Academy\n",
      "        Number of Brains: 1\n",
      "        Number of External Brains : 1\n",
      "        Lesson number : 0\n",
      "        Reset Parameters :\n",
      "\t\tgoal_speed -> 1.0\n",
      "\t\tgoal_size -> 5.0\n",
      "Unity brain name: ReacherBrain\n",
      "        Number of Visual Observations (per agent): 0\n",
      "        Vector Observation space type: continuous\n",
      "        Vector Observation space size (per agent): 33\n",
      "        Number of stacked Vector Observation: 1\n",
      "        Vector Action space type: continuous\n",
      "        Vector Action space size (per agent): 4\n",
      "        Vector Action descriptions: , , , \n"
     ]
    }
   ],
   "source": [
    "env = UnityEnvironment(file_name='Reacher_Windows_x86_64_1agent/Reacher.app')"
   ]
  },
  {
   "cell_type": "markdown",
   "metadata": {},
   "source": [
    "Environments contain **_brains_** which are responsible for deciding the actions of their associated agents. Here we check for the first brain available, and set it as the default brain we will be controlling from Python."
   ]
  },
  {
   "cell_type": "code",
   "execution_count": 3,
   "metadata": {},
   "outputs": [],
   "source": [
    "# get the default brain\n",
    "brain_name = env.brain_names[0]\n",
    "brain = env.brains[brain_name]"
   ]
  },
  {
   "cell_type": "markdown",
   "metadata": {},
   "source": [
    "### 2. Examine the State and Action Spaces\n",
    "\n",
    "In this environment, a double-jointed arm can move to target locations. A reward of `+0.1` is provided for each step that the agent's hand is in the goal location. Thus, the goal of your agent is to maintain its position at the target location for as many time steps as possible.\n",
    "\n",
    "The observation space consists of `33` variables corresponding to position, rotation, velocity, and angular velocities of the arm.  Each action is a vector with four numbers, corresponding to torque applicable to two joints.  Every entry in the action vector must be a number between `-1` and `1`.\n",
    "\n",
    "Run the code cell below to print some information about the environment."
   ]
  },
  {
   "cell_type": "code",
   "execution_count": 4,
   "metadata": {},
   "outputs": [
    {
     "name": "stdout",
     "output_type": "stream",
     "text": [
      "Number of agents: 1\n",
      "Size of each action: 4\n",
      "There are 1 agents. Each observes a state with length: 33\n",
      "The state for the first agent looks like: [ 0.00000000e+00 -4.00000000e+00  0.00000000e+00  1.00000000e+00\n",
      " -0.00000000e+00 -0.00000000e+00 -4.37113883e-08  0.00000000e+00\n",
      "  0.00000000e+00  0.00000000e+00  0.00000000e+00  0.00000000e+00\n",
      "  0.00000000e+00  0.00000000e+00 -1.00000000e+01  0.00000000e+00\n",
      "  1.00000000e+00 -0.00000000e+00 -0.00000000e+00 -4.37113883e-08\n",
      "  0.00000000e+00  0.00000000e+00  0.00000000e+00  0.00000000e+00\n",
      "  0.00000000e+00  0.00000000e+00  5.75471878e+00 -1.00000000e+00\n",
      "  5.55726671e+00  0.00000000e+00  1.00000000e+00  0.00000000e+00\n",
      " -1.68164849e-01]\n"
     ]
    }
   ],
   "source": [
    "# reset the environment\n",
    "env_info = env.reset(train_mode=True)[brain_name]\n",
    "\n",
    "# number of agents\n",
    "num_agents = len(env_info.agents)\n",
    "print('Number of agents:', num_agents)\n",
    "\n",
    "# size of each action\n",
    "action_size = brain.vector_action_space_size\n",
    "print('Size of each action:', action_size)\n",
    "\n",
    "# examine the state space \n",
    "states = env_info.vector_observations\n",
    "state_size = states.shape[1]\n",
    "print('There are {} agents. Each observes a state with length: {}'.format(states.shape[0], state_size))\n",
    "print('The state for the first agent looks like:', states[0])"
   ]
  },
  {
   "cell_type": "markdown",
   "metadata": {},
   "source": [
    "### 3. Take Random Actions in the Environment\n",
    "\n",
    "In the next code cell, you will learn how to use the Python API to control the agent and receive feedback from the environment.\n",
    "\n",
    "Once this cell is executed, you will watch the agent's performance, if it selects an action at random with each time step.  A window should pop up that allows you to observe the agent, as it moves through the environment.  \n",
    "\n",
    "Of course, as part of the project, you'll have to change the code so that the agent is able to use its experience to gradually choose better actions when interacting with the environment!"
   ]
  },
  {
   "cell_type": "code",
   "execution_count": null,
   "metadata": {},
   "outputs": [],
   "source": [
    "env_info = env.reset(train_mode=False)[brain_name]     # reset the environment    \n",
    "states = env_info.vector_observations                  # get the current state (for each agent)\n",
    "scores = np.zeros(num_agents)                          # initialize the score (for each agent)\n",
    "while True:\n",
    "    actions = np.random.randn(num_agents, action_size) # select an action (for each agent)\n",
    "    actions = np.clip(actions, -1, 1)                  # all actions between -1 and 1\n",
    "    env_info = env.step(actions)[brain_name]           # send all actions to tne environment\n",
    "    next_states = env_info.vector_observations         # get next state (for each agent)\n",
    "    rewards = env_info.rewards                         # get reward (for each agent)\n",
    "    dones = env_info.local_done                        # see if episode finished\n",
    "    scores += env_info.rewards                         # update the score (for each agent)\n",
    "    states = next_states                               # roll over states to next time step\n",
    "    if np.any(dones):                                  # exit loop if episode finished\n",
    "        break\n",
    "print('Total score (averaged over agents) this episode: {}'.format(np.mean(scores)))"
   ]
  },
  {
   "cell_type": "markdown",
   "metadata": {},
   "source": [
    "### 4. It's Your Turn!\n",
    "\n",
    "Now it's your turn to train your own agent to solve the environment!  When training the environment, set `train_mode=True`, so that the line for resetting the environment looks like the following:\n",
    "```python\n",
    "env_info = env.reset(train_mode=True)[brain_name]\n",
    "```"
   ]
  },
  {
   "cell_type": "code",
   "execution_count": 5,
   "metadata": {},
   "outputs": [],
   "source": [
    "from collections import deque\n",
    "from ddpg_agent import Agent\n",
    "import torch\n",
    "\n",
    "state_size=env_info.vector_observations[0].shape[0]\n",
    "action_size=brain.vector_action_space_size\n",
    "\n",
    "agent = Agent(state_size=state_size, action_size=action_size, random_seed=100)"
   ]
  },
  {
   "cell_type": "code",
   "execution_count": 6,
   "metadata": {
    "scrolled": true
   },
   "outputs": [
    {
     "name": "stderr",
     "output_type": "stream",
     "text": [
      "C:\\Users\\sahin\\miniconda3\\envs\\p2_continous-control\\lib\\site-packages\\torch\\nn\\functional.py:1795: UserWarning: nn.functional.tanh is deprecated. Use torch.tanh instead.\n",
      "  warnings.warn(\"nn.functional.tanh is deprecated. Use torch.tanh instead.\")\n"
     ]
    },
    {
     "name": "stdout",
     "output_type": "stream",
     "text": [
      "Episode 10\tAverage Score: 0.63\n",
      "Episode 20\tAverage Score: 0.49\n",
      "Episode 30\tAverage Score: 0.60\n",
      "Episode 40\tAverage Score: 0.80\n",
      "Episode 50\tAverage Score: 0.90\n",
      "Episode 60\tAverage Score: 0.95\n",
      "Episode 70\tAverage Score: 0.99\n",
      "Episode 80\tAverage Score: 1.07\n",
      "Episode 90\tAverage Score: 1.14\n",
      "Episode 100\tAverage Score: 1.26\n",
      "Episode 110\tAverage Score: 1.46\n",
      "Episode 120\tAverage Score: 1.64\n",
      "Episode 130\tAverage Score: 1.81\n",
      "Episode 140\tAverage Score: 2.01\n",
      "Episode 150\tAverage Score: 2.25\n",
      "Episode 160\tAverage Score: 2.52\n",
      "Episode 170\tAverage Score: 2.84\n",
      "Episode 180\tAverage Score: 3.07\n",
      "Episode 190\tAverage Score: 3.50\n",
      "Episode 200\tAverage Score: 3.98\n",
      "Episode 210\tAverage Score: 4.58\n",
      "Episode 220\tAverage Score: 5.24\n",
      "Episode 230\tAverage Score: 5.74\n",
      "Episode 240\tAverage Score: 6.41\n",
      "Episode 250\tAverage Score: 7.46\n",
      "Episode 260\tAverage Score: 8.18\n",
      "Episode 270\tAverage Score: 8.91\n",
      "Episode 280\tAverage Score: 9.73\n",
      "Episode 290\tAverage Score: 10.39\n",
      "Episode 300\tAverage Score: 10.86\n",
      "Episode 310\tAverage Score: 11.39\n",
      "Episode 320\tAverage Score: 11.83\n",
      "Episode 330\tAverage Score: 12.47\n",
      "Episode 340\tAverage Score: 13.00\n",
      "Episode 350\tAverage Score: 12.98\n",
      "Episode 360\tAverage Score: 13.26\n",
      "Episode 370\tAverage Score: 13.41\n",
      "Episode 380\tAverage Score: 13.75\n",
      "Episode 390\tAverage Score: 13.72\n",
      "Episode 400\tAverage Score: 14.19\n",
      "Episode 410\tAverage Score: 14.64\n",
      "Episode 420\tAverage Score: 15.21\n",
      "Episode 430\tAverage Score: 15.34\n",
      "Episode 440\tAverage Score: 15.54\n",
      "Episode 450\tAverage Score: 15.80\n",
      "Episode 460\tAverage Score: 16.28\n",
      "Episode 470\tAverage Score: 17.38\n",
      "Episode 480\tAverage Score: 17.51\n",
      "Episode 490\tAverage Score: 18.26\n",
      "Episode 500\tAverage Score: 18.14\n",
      "Episode 510\tAverage Score: 18.34\n",
      "Episode 520\tAverage Score: 18.27\n",
      "Episode 530\tAverage Score: 18.51\n",
      "Episode 540\tAverage Score: 18.74\n",
      "Episode 550\tAverage Score: 19.27\n",
      "Episode 560\tAverage Score: 19.43\n",
      "Episode 570\tAverage Score: 19.09\n",
      "Episode 580\tAverage Score: 19.75\n",
      "Episode 590\tAverage Score: 20.00\n",
      "Episode 600\tAverage Score: 20.47\n",
      "Episode 610\tAverage Score: 20.65\n",
      "Episode 620\tAverage Score: 21.18\n",
      "Episode 630\tAverage Score: 21.68\n",
      "Episode 640\tAverage Score: 22.30\n",
      "Episode 650\tAverage Score: 22.60\n",
      "Episode 660\tAverage Score: 23.24\n",
      "Episode 670\tAverage Score: 23.83\n",
      "Episode 680\tAverage Score: 24.28\n",
      "Episode 690\tAverage Score: 24.41\n",
      "Episode 700\tAverage Score: 24.97\n",
      "Episode 710\tAverage Score: 25.37\n",
      "Episode 720\tAverage Score: 25.71\n",
      "Episode 730\tAverage Score: 25.96\n",
      "Episode 740\tAverage Score: 26.08\n",
      "Episode 750\tAverage Score: 26.46\n",
      "Episode 760\tAverage Score: 26.57\n",
      "Episode 770\tAverage Score: 26.70\n",
      "Episode 780\tAverage Score: 26.62\n",
      "Episode 790\tAverage Score: 26.88\n",
      "Episode 800\tAverage Score: 26.95\n",
      "Episode 810\tAverage Score: 27.15\n",
      "Episode 820\tAverage Score: 27.00\n",
      "Episode 830\tAverage Score: 26.94\n",
      "Episode 840\tAverage Score: 26.73\n",
      "Episode 850\tAverage Score: 26.65\n",
      "Episode 860\tAverage Score: 26.53\n",
      "Episode 870\tAverage Score: 25.91\n",
      "Episode 880\tAverage Score: 25.75\n",
      "Episode 890\tAverage Score: 25.79\n",
      "Episode 900\tAverage Score: 25.88\n",
      "Episode 910\tAverage Score: 25.76\n",
      "Episode 920\tAverage Score: 26.05\n",
      "Episode 930\tAverage Score: 26.53\n",
      "Episode 940\tAverage Score: 26.72\n",
      "Episode 950\tAverage Score: 26.46\n",
      "Episode 960\tAverage Score: 26.10\n",
      "Episode 970\tAverage Score: 26.43\n",
      "Episode 980\tAverage Score: 26.40\n",
      "Episode 990\tAverage Score: 26.43\n",
      "Episode 1000\tAverage Score: 26.55\n",
      "Episode 1010\tAverage Score: 27.12\n",
      "Episode 1020\tAverage Score: 27.27\n",
      "Episode 1030\tAverage Score: 27.45\n",
      "Episode 1040\tAverage Score: 28.16\n",
      "Episode 1050\tAverage Score: 28.74\n",
      "Episode 1060\tAverage Score: 29.51\n",
      "Episode 1070\tAverage Score: 30.27\n",
      "Episode 1080\tAverage Score: 30.89\n",
      "Episode 1083\tAverage Score: 31.08\n",
      "Environment solved in 1083 episodes!\tAverage Score: 31.08\n"
     ]
    }
   ],
   "source": [
    "def ddpg(n_episodes=2000, max_t=1000, print_every=10, target_average_score=31):       \n",
    "    scores_deque = deque(maxlen=100)\n",
    "    scores_list = []\n",
    "    average_scores = []\n",
    "    for i_episode in range(1, n_episodes+1):\n",
    "        env_info = env.reset(train_mode=True)[brain_name]\n",
    "        states = env_info.vector_observations\n",
    "        agent.reset()\n",
    "        scores = np.zeros(num_agents)\n",
    "        for t in range(max_t):\n",
    "            actions = agent.act(states)\n",
    "            env_info = env.step(actions)[brain_name]\n",
    "            next_states = env_info.vector_observations\n",
    "            rewards = env_info.rewards                         \n",
    "            dones = env_info.local_done            \n",
    "\n",
    "            for i in range(num_agents):\n",
    "                agent.step(states[i], actions[i], rewards[i], next_states[i], dones[i])\n",
    "            \n",
    "            scores += env_info.rewards                         \n",
    "            states = next_states  \n",
    "            if np.any(dones):\n",
    "                break\n",
    "        \n",
    "        scores_deque.append(np.mean(scores))\n",
    "        scores_list.append(scores)        \n",
    "        \n",
    "        # Sigma decay\n",
    "        sigma_decay = 0.995\n",
    "        min_sigma = 0.05\n",
    "        if agent.noise.sigma > min_sigma:\n",
    "            agent.noise.decay_sigma(sigma_decay)\n",
    "            \n",
    "        average_score = np.mean(scores_deque)\n",
    "        average_scores.append(average_score)\n",
    "        print('\\rEpisode {}\\tAverage Score: {:.2f}'.format(i_episode, average_score), end=\"\")\n",
    "        if i_episode % print_every == 0:\n",
    "            print('\\rEpisode {}\\tAverage Score: {:.2f}'.format(i_episode, average_score))  \n",
    "        if np.mean(scores_deque) > target_average_score:\n",
    "            print('\\nEnvironment solved in {:d} episodes!\\tAverage Score: {:.2f}'.format(i_episode, average_score))\n",
    "            torch.save({\n",
    "                'actor_state_dict': agent.actor_local.state_dict(),\n",
    "                'critic_state_dict': agent.critic_local.state_dict(),\n",
    "                'actor_optimizer_state_dict': agent.actor_optimizer.state_dict(),\n",
    "                'critic_optimizer_state_dict': agent.critic_optimizer.state_dict(),\n",
    "                'episode': i_episode,\n",
    "                'score': average_score,\n",
    "            }, 'checkpoint_cpu.pth')\n",
    "            \n",
    "            break;        \n",
    "                   \n",
    "    return scores_list, average_scores\n",
    "\n",
    "scores, steady_scores = ddpg()"
   ]
  },
  {
   "cell_type": "code",
   "execution_count": 7,
   "metadata": {},
   "outputs": [
    {
     "name": "stdout",
     "output_type": "stream",
     "text": [
      "[array([0.]), array([2.24999995]), array([0.72999998]), array([1.56999996]), array([1.43999997]), array([0.29999999]), array([0.]), array([0.]), array([0.]), array([0.]), array([0.]), array([0.]), array([0.]), array([0.06]), array([0.]), array([1.34999997]), array([0.]), array([0.18]), array([1.39999997]), array([0.46999999]), array([0.86999998]), array([0.58999999]), array([0.74999998]), array([0.50999999]), array([0.30999999]), array([1.37999997]), array([1.27999997]), array([0.25999999]), array([1.01999998]), array([1.40999997]), array([0.62999999]), array([2.10999995]), array([1.07999998]), array([1.95999996]), array([0.56999999]), array([1.98999996]), array([1.16999997]), array([1.42999997]), array([1.86999996]), array([0.92999998]), array([0.80999998]), array([1.14999997]), array([0.85999998]), array([1.61999996]), array([2.26999995]), array([0.26999999]), array([1.28999997]), array([2.22999995]), array([0.99999998]), array([1.43999997]), array([0.33999999]), array([0.49999999]), array([0.]), array([1.09999998]), array([1.54999997]), array([1.52999997]), array([1.61999996]), array([1.55999997]), array([1.60999996]), array([2.64999994]), array([0.42999999]), array([1.26999997]), array([0.34999999]), array([0.99999998]), array([0.91999998]), array([1.11999997]), array([0.53999999]), array([1.31999997]), array([3.45999992]), array([1.93999996]), array([2.36999995]), array([1.57999996]), array([1.71999996]), array([0.21]), array([2.20999995]), array([1.12999997]), array([1.18999997]), array([1.29999997]), array([2.90999993]), array([1.60999996]), array([2.01999995]), array([1.07999998]), array([2.10999995]), array([1.54999997]), array([0.55999999]), array([1.03999998]), array([3.19999993]), array([2.40999995]), array([0.]), array([2.90999993]), array([7.73999983]), array([2.29999995]), array([1.58999996]), array([0.31999999]), array([2.31999995]), array([1.96999996]), array([1.34999997]), array([1.15999997]), array([1.81999996]), array([2.79999994]), array([1.25999997]), array([1.83999996]), array([1.85999996]), array([1.38999997]), array([2.09999995]), array([4.09999991]), array([5.07999989]), array([2.89999994]), array([1.54999997]), array([3.65999992]), array([2.15999995]), array([1.49999997]), array([2.91999993]), array([2.21999995]), array([2.33999995]), array([2.05999995]), array([1.53999997]), array([3.94999991]), array([2.10999995]), array([1.15999997]), array([3.39999992]), array([4.07999991]), array([1.89999996]), array([3.11999993]), array([1.28999997]), array([4.3599999]), array([1.66999996]), array([2.21999995]), array([2.32999995]), array([1.13999997]), array([1.92999996]), array([0.87999998]), array([2.46999994]), array([4.2599999]), array([3.74999992]), array([2.95999993]), array([4.3099999]), array([4.4699999]), array([3.57999992]), array([4.82999989]), array([6.82999985]), array([2.25999995]), array([1.64999996]), array([2.49999994]), array([2.88999994]), array([4.6199999]), array([4.69999989]), array([4.6199999]), array([3.21999993]), array([3.91999991]), array([3.83999991]), array([2.58999994]), array([1.04999998]), array([4.3799999]), array([2.12999995]), array([2.60999994]), array([2.85999994]), array([4.24999991]), array([9.84999978]), array([5.53999988]), array([2.48999994]), array([2.32999995]), array([6.68999985]), array([1.15999997]), array([7.07999984]), array([5.81999987]), array([1.39999997]), array([8.9299998]), array([7.77999983]), array([1.19999997]), array([4.87999989]), array([4.2799999]), array([5.03999989]), array([2.46999994]), array([6.20999986]), array([2.27999995]), array([4.6799999]), array([1.90999996]), array([2.60999994]), array([4.3299999]), array([9.1599998]), array([10.11999977]), array([0.96999998]), array([7.06999984]), array([9.1599998]), array([3.54999992]), array([4.3199999]), array([4.19999991]), array([7.67999983]), array([3.93999991]), array([8.35999981]), array([1.28999997]), array([13.14999971]), array([10.36999977]), array([7.33999984]), array([5.80999987]), array([9.92999978]), array([3.69999992]), array([3.13999993]), array([8.39999981]), array([7.11999984]), array([7.22999984]), array([3.72999992]), array([10.25999977]), array([10.48999977]), array([12.47999972]), array([7.88999982]), array([6.66999985]), array([8.8399998]), array([10.86999976]), array([13.96999969]), array([10.95999976]), array([6.23999986]), array([5.25999988]), array([4.71999989]), array([13.3899997]), array([8.68999981]), array([7.19999984]), array([8.45999981]), array([8.8399998]), array([9.66999978]), array([12.33999972]), array([8.20999982]), array([5.59999987]), array([7.51999983]), array([6.80999985]), array([6.49999985]), array([4.3199999]), array([8.8999998]), array([6.27999986]), array([5.03999989]), array([8.55999981]), array([1.92999996]), array([19.92999955]), array([13.91999969]), array([15.82999965]), array([5.61999987]), array([14.71999967]), array([4.78999989]), array([9.65999978]), array([24.96999944]), array([6.53999985]), array([8.43999981]), array([11.61999974]), array([16.44999963]), array([8.22999982]), array([18.53999959]), array([7.31999984]), array([16.37999963]), array([23.28999948]), array([13.4799997]), array([10.66999976]), array([4.16999991]), array([15.59999965]), array([11.98999973]), array([15.94999964]), array([5.68999987]), array([14.44999968]), array([13.73999969]), array([6.04999986]), array([18.65999958]), array([13.5399997]), array([9.68999978]), array([0.38999999]), array([12.57999972]), array([16.99999962]), array([7.37999984]), array([11.13999975]), array([13.97999969]), array([13.4099997]), array([7.68999983]), array([14.32999968]), array([12.81999971]), array([9.52999979]), array([7.44999983]), array([12.02999973]), array([17.9499996]), array([12.39999972]), array([10.71999976]), array([15.40999966]), array([19.11999957]), array([15.08999966]), array([13.86999969]), array([12.97999971]), array([19.96999955]), array([7.33999984]), array([11.75999974]), array([12.04999973]), array([7.09999984]), array([7.34999984]), array([13.65999969]), array([6.17999986]), array([11.50999974]), array([14.53999968]), array([17.7599996]), array([11.33999975]), array([7.09999984]), array([13.2199997]), array([11.48999974]), array([11.14999975]), array([19.57999956]), array([4.92999989]), array([12.75999971]), array([12.00999973]), array([32.62999927]), array([4.73999989]), array([15.71999965]), array([9.36999979]), array([16.68999963]), array([10.78999976]), array([12.45999972]), array([6.85999985]), array([18.69999958]), array([15.29999966]), array([6.19999986]), array([18.73999958]), array([14.14999968]), array([12.92999971]), array([11.45999974]), array([14.81999967]), array([16.96999962]), array([12.65999972]), array([16.84999962]), array([13.66999969]), array([17.44999961]), array([11.23999975]), array([8.61999981]), array([6.71999985]), array([6.83999985]), array([28.69999936]), array([13.4299997]), array([15.06999966]), array([11.67999974]), array([14.38999968]), array([18.0399996]), array([10.98999975]), array([16.85999962]), array([25.17999944]), array([13.97999969]), array([14.00999969]), array([13.6399997]), array([11.62999974]), array([18.57999958]), array([19.43999957]), array([9.1199998]), array([10.07999977]), array([9.1499998]), array([19.77999956]), array([18.0199996]), array([9.64999978]), array([17.9699996]), array([15.00999966]), array([11.46999974]), array([12.19999973]), array([13.70999969]), array([15.70999965]), array([18.25999959]), array([9.70999978]), array([17.62999961]), array([8.22999982]), array([8.62999981]), array([11.17999975]), array([21.00999953]), array([20.20999955]), array([11.58999974]), array([14.47999968]), array([7.02999984]), array([15.08999966]), array([7.23999984]), array([16.65999963]), array([19.23999957]), array([7.57999983]), array([18.0599996]), array([17.7799996]), array([16.89999962]), array([10.41999977]), array([23.68999947]), array([13.5299997]), array([15.71999965]), array([11.40999974]), array([16.80999962]), array([14.64999967]), array([17.55999961]), array([6.16999986]), array([17.9999996]), array([13.15999971]), array([5.48999988]), array([6.51999985]), array([17.9999996]), array([7.50999983]), array([11.00999975]), array([20.03999955]), array([21.20999953]), array([12.20999973]), array([10.64999976]), array([20.01999955]), array([21.24999953]), array([18.74999958]), array([19.94999955]), array([9.53999979]), array([12.68999972]), array([24.13999946]), array([16.11999964]), array([20.92999953]), array([21.24999953]), array([17.24999961]), array([19.59999956]), array([12.22999973]), array([19.14999957]), array([20.37999954]), array([17.54999961]), array([12.94999971]), array([4.80999989]), array([18.46999959]), array([15.26999966]), array([19.43999957]), array([16.16999964]), array([24.77999945]), array([20.06999955]), array([39.32999912]), array([14.86999967]), array([19.93999955]), array([14.33999968]), array([19.27999957]), array([8.70999981]), array([15.43999965]), array([9.0699998]), array([11.98999973]), array([19.34999957]), array([19.48999956]), array([11.81999974]), array([11.85999973]), array([20.43999954]), array([22.99999949]), array([16.61999963]), array([16.95999962]), array([20.12999955]), array([15.41999966]), array([20.62999954]), array([16.94999962]), array([9.84999978]), array([22.1999995]), array([17.7899996]), array([16.08999964]), array([24.23999946]), array([18.47999959]), array([13.75999969]), array([22.90999949]), array([10.68999976]), array([9.30999979]), array([13.05999971]), array([13.3099997]), array([17.37999961]), array([20.87999953]), array([14.14999968]), array([20.70999954]), array([22.1799995]), array([23.17999948]), array([25.24999944]), array([17.9099996]), array([33.34999925]), array([25.25999944]), array([32.65999927]), array([24.13999946]), array([21.91999951]), array([20.70999954]), array([24.29999946]), array([21.44999952]), array([21.83999951]), array([17.42999961]), array([18.12999959]), array([14.38999968]), array([16.58999963]), array([14.28999968]), array([18.74999958]), array([14.70999967]), array([9.54999979]), array([17.34999961]), array([22.83999949]), array([20.45999954]), array([22.4899995]), array([17.56999961]), array([22.4899995]), array([19.80999956]), array([16.99999962]), array([15.92999964]), array([21.04999953]), array([23.75999947]), array([20.52999954]), array([18.84999958]), array([10.70999976]), array([18.21999959]), array([15.78999965]), array([24.62999945]), array([9.1399998]), array([11.77999974]), array([18.89999958]), array([13.6199997]), array([20.40999954]), array([9.0899998]), array([22.1899995]), array([23.46999948]), array([22.3599995]), array([12.51999972]), array([20.13999955]), array([12.50999972]), array([4.00999991]), array([22.05999951]), array([38.46999914]), array([25.59999943]), array([13.4599997]), array([19.25999957]), array([20.57999954]), array([25.20999944]), array([20.59999954]), array([15.89999964]), array([23.82999947]), array([11.02999975]), array([22.2399995]), array([10.24999977]), array([19.47999956]), array([21.71999951]), array([9.89999978]), array([21.83999951]), array([12.90999971]), array([12.54999972]), array([24.00999946]), array([18.0699996]), array([17.6999996]), array([18.41999959]), array([21.46999952]), array([22.5599995]), array([18.94999958]), array([19.07999957]), array([26.11999942]), array([18.99999958]), array([19.28999957]), array([17.54999961]), array([8.9899998]), array([23.78999947]), array([18.30999959]), array([19.92999955]), array([22.74999949]), array([22.1699995]), array([32.32999928]), array([15.09999966]), array([23.11999948]), array([19.43999957]), array([18.36999959]), array([26.54999941]), array([24.08999946]), array([13.94999969]), array([23.24999948]), array([19.08999957]), array([26.25999941]), array([20.76999954]), array([18.86999958]), array([14.05999969]), array([23.94999946]), array([20.04999955]), array([24.00999946]), array([17.57999961]), array([21.92999951]), array([19.64999956]), array([22.84999949]), array([20.74999954]), array([24.17999946]), array([16.94999962]), array([23.29999948]), array([17.7599996]), array([20.84999953]), array([21.71999951]), array([25.19999944]), array([23.49999947]), array([21.49999952]), array([25.40999943]), array([26.6499994]), array([20.62999954]), array([24.82999945]), array([22.64999949]), array([25.28999943]), array([25.98999942]), array([17.18999962]), array([27.36999939]), array([26.6899994]), array([18.96999958]), array([23.77999947]), array([20.80999953]), array([16.91999962]), array([21.18999953]), array([11.43999974]), array([37.74999916]), array([17.8699996]), array([21.34999952]), array([15.50999965]), array([24.48999945]), array([20.13999955]), array([13.2599997]), array([14.64999967]), array([22.81999949]), array([22.3199995]), array([15.52999965]), array([18.13999959]), array([25.35999943]), array([24.59999945]), array([20.29999955]), array([25.80999942]), array([22.07999951]), array([25.13999944]), array([21.79999951]), array([38.66999914]), array([22.63999949]), array([26.52999941]), array([26.7599994]), array([24.28999946]), array([21.02999953]), array([17.21999962]), array([17.15999962]), array([23.02999949]), array([18.42999959]), array([26.01999942]), array([17.18999962]), array([20.25999955]), array([17.16999962]), array([24.33999946]), array([20.08999955]), array([27.48999939]), array([20.99999953]), array([25.88999942]), array([26.8099994]), array([26.7599994]), array([25.86999942]), array([25.08999944]), array([23.68999947]), array([26.9899994]), array([27.32999939]), array([27.79999938]), array([26.27999941]), array([23.70999947]), array([25.82999942]), array([27.41999939]), array([23.23999948]), array([23.90999947]), array([25.18999944]), array([21.49999952]), array([25.10999944]), array([23.66999947]), array([26.11999942]), array([25.31999943]), array([26.31999941]), array([26.51999941]), array([39.60999911]), array([25.46999943]), array([25.31999943]), array([25.81999942]), array([27.26999939]), array([24.97999944]), array([23.66999947]), array([23.48999947]), array([26.34999941]), array([25.04999944]), array([27.08999939]), array([24.59999945]), array([27.0099994]), array([27.20999939]), array([23.77999947]), array([28.62999936]), array([32.77999927]), array([30.42999932]), array([20.91999953]), array([25.35999943]), array([19.73999956]), array([39.54999912]), array([26.7299994]), array([28.08999937]), array([27.93999938]), array([29.66999934]), array([25.54999943]), array([26.8499994]), array([29.22999935]), array([27.25999939]), array([28.22999937]), array([24.80999945]), array([17.8699996]), array([21.02999953]), array([21.11999953]), array([23.31999948]), array([25.83999942]), array([27.58999938]), array([19.39999957]), array([16.99999962]), array([27.09999939]), array([18.63999958]), array([26.55999941]), array([39.33999912]), array([28.36999937]), array([25.18999944]), array([26.43999941]), array([24.31999946]), array([22.81999949]), array([27.19999939]), array([25.08999944]), array([24.63999945]), array([21.18999953]), array([22.61999949]), array([26.9099994]), array([26.57999941]), array([28.76999936]), array([29.05999935]), array([28.36999937]), array([25.89999942]), array([27.39999939]), array([29.41999934]), array([28.86999935]), array([27.55999938]), array([26.8599994]), array([24.17999946]), array([24.25999946]), array([26.12999942]), array([29.50999934]), array([21.98999951]), array([25.41999943]), array([25.10999944]), array([27.68999938]), array([29.41999934]), array([27.41999939]), array([17.35999961]), array([30.65999931]), array([27.0499994]), array([18.94999958]), array([13.3899997]), array([26.9099994]), array([26.05999942]), array([37.39999916]), array([28.64999936]), array([29.33999934]), array([29.38999934]), array([28.27999937]), array([24.31999946]), array([27.80999938]), array([24.49999945]), array([28.98999935]), array([23.68999947]), array([29.76999933]), array([24.99999944]), array([32.35999928]), array([39.50999912]), array([22.65999949]), array([28.11999937]), array([31.4199993]), array([28.79999936]), array([25.60999943]), array([28.06999937]), array([24.24999946]), array([28.20999937]), array([28.65999936]), array([33.81999924]), array([27.82999938]), array([29.44999934]), array([25.07999944]), array([25.76999942]), array([27.53999938]), array([26.9499994]), array([27.93999938]), array([28.02999937]), array([27.88999938]), array([30.31999932]), array([28.65999936]), array([28.38999937]), array([28.30999937]), array([30.90999931]), array([28.06999937]), array([30.19999932]), array([28.48999936]), array([27.93999938]), array([28.30999937]), array([13.14999971]), array([25.70999943]), array([30.49999932]), array([28.16999937]), array([24.67999945]), array([24.16999946]), array([28.81999936]), array([25.78999942]), array([28.66999936]), array([18.11999959]), array([28.24999937]), array([30.14999933]), array([24.50999945]), array([28.55999936]), array([26.9799994]), array([25.82999942]), array([27.63999938]), array([27.61999938]), array([29.29999935]), array([23.38999948]), array([30.78999931]), array([23.50999947]), array([18.75999958]), array([29.57999934]), array([26.44999941]), array([27.99999937]), array([27.53999938]), array([24.87999944]), array([22.74999949]), array([29.66999934]), array([24.02999946]), array([39.53999912]), array([27.52999938]), array([29.82999933]), array([28.57999936]), array([30.36999932]), array([17.13999962]), array([25.80999942]), array([30.88999931]), array([17.02999962]), array([21.89999951]), array([24.25999946]), array([37.20999917]), array([21.97999951]), array([21.20999953]), array([31.2599993]), array([30.48999932]), array([29.72999934]), array([22.10999951]), array([28.28999937]), array([9.39999979]), array([17.48999961]), array([27.77999938]), array([26.8499994]), array([26.8599994]), array([17.8599996]), array([26.7799994]), array([26.04999942]), array([28.44999936]), array([25.49999943]), array([21.67999952]), array([23.14999948]), array([24.92999944]), array([29.35999934]), array([32.37999928]), array([24.25999946]), array([22.72999949]), array([30.77999931]), array([27.97999937]), array([29.69999934]), array([25.95999942]), array([27.72999938]), array([31.57999929]), array([25.53999943]), array([27.95999938]), array([30.17999933]), array([27.51999938]), array([26.28999941]), array([27.37999939]), array([27.20999939]), array([28.93999935]), array([25.18999944]), array([21.23999953]), array([25.64999943]), array([17.8699996]), array([24.88999944]), array([20.59999954]), array([11.99999973]), array([26.8599994]), array([23.49999947]), array([23.92999947]), array([17.9199996]), array([26.8299994]), array([22.95999949]), array([26.58999941]), array([25.27999943]), array([27.56999938]), array([16.93999962]), array([14.20999968]), array([24.82999945]), array([24.18999946]), array([29.29999935]), array([39.51999912]), array([27.71999938]), array([23.65999947]), array([31.60999929]), array([8.42999981]), array([24.72999945]), array([28.11999937]), array([28.52999936]), array([33.26999926]), array([29.20999935]), array([31.3899993]), array([26.7699994]), array([37.30999917]), array([24.26999946]), array([32.46999927]), array([28.98999935]), array([23.13999948]), array([37.53999916]), array([18.91999958]), array([13.82999969]), array([30.70999931]), array([25.16999944]), array([28.97999935]), array([26.45999941]), array([24.53999945]), array([28.78999936]), array([23.61999947]), array([27.91999938]), array([23.74999947]), array([26.23999941]), array([28.42999936]), array([28.92999935]), array([32.21999928]), array([26.26999941]), array([28.14999937]), array([28.51999936]), array([30.91999931]), array([24.92999944]), array([31.4299993]), array([25.47999943]), array([31.93999929]), array([24.80999945]), array([21.96999951]), array([28.65999936]), array([25.72999942]), array([31.86999929]), array([31.5399993]), array([30.40999932]), array([32.49999927]), array([29.17999935]), array([30.51999932]), array([30.22999932]), array([30.53999932]), array([31.3999993]), array([30.90999931]), array([28.06999937]), array([31.77999929]), array([30.54999932]), array([34.47999923]), array([2.97999993]), array([32.88999926]), array([15.65999965]), array([22.59999949]), array([25.32999943]), array([15.42999966]), array([28.55999936]), array([30.55999932]), array([29.83999933]), array([20.79999954]), array([32.10999928]), array([18.94999958]), array([28.01999937]), array([26.7199994]), array([27.33999939]), array([19.98999955]), array([22.3299995]), array([13.6299997]), array([18.58999958]), array([15.74999965]), array([33.88999924]), array([27.13999939]), array([26.9699994]), array([28.38999937]), array([34.35999923]), array([20.29999955]), array([16.71999963]), array([11.63999974]), array([30.11999933]), array([28.27999937]), array([27.12999939]), array([24.84999944]), array([28.49999936]), array([29.09999935]), array([23.58999947]), array([28.93999935]), array([28.13999937]), array([26.59999941]), array([22.5499995]), array([31.63999929]), array([30.65999931]), array([6.39999986]), array([25.72999942]), array([26.12999942]), array([24.95999944]), array([28.87999935]), array([29.73999934]), array([17.14999962]), array([25.58999943]), array([33.59999925]), array([25.95999942]), array([27.89999938]), array([27.87999938]), array([34.30999923]), array([29.89999933]), array([30.60999932]), array([27.36999939]), array([28.93999935]), array([26.27999941]), array([34.25999923]), array([24.83999944]), array([22.96999949]), array([25.39999943]), array([39.51999912]), array([31.98999928]), array([31.58999929]), array([33.99999924]), array([30.59999932]), array([32.85999927]), array([29.50999934]), array([31.1799993]), array([31.3799993]), array([31.85999929]), array([31.64999929]), array([28.53999936]), array([27.88999938]), array([29.99999933]), array([32.83999927]), array([31.56999929]), array([30.73999931]), array([32.38999928]), array([25.14999944]), array([29.04999935]), array([32.05999928]), array([31.94999929]), array([29.79999933]), array([34.01999924]), array([31.71999929]), array([30.52999932]), array([30.12999933]), array([32.37999928]), array([31.1899993]), array([26.38999941]), array([30.46999932]), array([33.46999925]), array([35.9699992]), array([35.36999921]), array([38.97999913]), array([33.04999926]), array([31.2899993]), array([36.87999918]), array([29.16999935]), array([35.6699992]), array([27.81999938]), array([24.26999946]), array([39.25999912]), array([25.09999944]), array([35.7799992]), array([30.52999932]), array([30.78999931]), array([27.91999938]), array([31.93999929]), array([37.24999917]), array([27.33999939]), array([37.33999917]), array([28.80999936]), array([33.54999925]), array([33.78999924]), array([22.4599995]), array([32.63999927]), array([29.02999935]), array([31.92999929]), array([32.54999927]), array([36.66999918]), array([33.08999926]), array([32.10999928]), array([33.34999925]), array([35.30999921]), array([29.20999935]), array([27.69999938]), array([32.80999927]), array([34.48999923]), array([31.54999929]), array([34.63999923]), array([32.42999928]), array([16.00999964]), array([31.4899993]), array([39.57999912]), array([34.73999922]), array([25.12999944]), array([34.05999924]), array([32.48999927]), array([34.23999923]), array([32.08999928]), array([29.85999933]), array([37.71999916])]\n"
     ]
    }
   ],
   "source": [
    "print(scores)"
   ]
  },
  {
   "cell_type": "code",
   "execution_count": 8,
   "metadata": {},
   "outputs": [],
   "source": [
    "import matplotlib.pyplot as plt"
   ]
  },
  {
   "cell_type": "code",
   "execution_count": 9,
   "metadata": {},
   "outputs": [
    {
     "data": {
      "image/png": "[encoded data removed]",
      "text/plain": [
       "<Figure size 432x288 with 1 Axes>"
      ]
     },
     "metadata": {
      "needs_background": "light"
     },
     "output_type": "display_data"
    }
   ],
   "source": [
    "fig = plt.figure()\n",
    "ax = fig.add_subplot(111)\n",
    "plt.plot(np.arange(1, len(scores)+1), scores, color=\"grey\")\n",
    "plt.plot(np.arange(1, len(scores)+1), steady_scores, color=\"red\")\n",
    "plt.ylabel('Score')\n",
    "plt.xlabel('Episode #')\n",
    "plt.show()"
   ]
  },
  {
   "cell_type": "markdown",
   "metadata": {},
   "source": [
    "# Test the agent"
   ]
  },
  {
   "cell_type": "code",
   "execution_count": 6,
   "metadata": {},
   "outputs": [],
   "source": [
    "# Load models\n",
    "checkpoint = torch.load('checkpoint_cpu.pth')\n",
    "\n",
    "agent.actor_local.load_state_dict(checkpoint['actor_state_dict'])\n",
    "agent.critic_local.load_state_dict(checkpoint['critic_state_dict'])\n",
    "agent.actor_optimizer.load_state_dict(checkpoint['actor_optimizer_state_dict'])\n",
    "agent.critic_optimizer.load_state_dict(checkpoint['critic_optimizer_state_dict'])"
   ]
  },
  {
   "cell_type": "code",
   "execution_count": 10,
   "metadata": {},
   "outputs": [
    {
     "name": "stdout",
     "output_type": "stream",
     "text": [
      "Total score (averaged over agents) this episode: 37.90999915264547\n"
     ]
    }
   ],
   "source": [
    "env_info = env.reset(train_mode=False)[brain_name]     # reset the environment    \n",
    "states = env_info.vector_observations                  # get the current state (for each agent)\n",
    "scores = np.zeros(num_agents)                          # initialize the score (for each agent)\n",
    "while True:\n",
    "    actions = agent.act(states, add_noise=False)\n",
    "#     actions = np.clip(actions, -1, 1)\n",
    "    env_info = env.step(actions)[brain_name]           # send all actions to tne environment\n",
    "    next_states = env_info.vector_observations         # get next state (for each agent)\n",
    "    rewards = env_info.rewards                         # get reward (for each agent)\n",
    "    dones = env_info.local_done                        # see if episode finished\n",
    "    scores += env_info.rewards                         # update the score (for each agent)\n",
    "    states = next_states                               # roll over states to next time step\n",
    "    if np.any(dones):                                  # exit loop if episode finished\n",
    "        break\n",
    "print('Total score (averaged over agents) this episode: {}'.format(np.mean(scores)))"
   ]
  },
  {
   "cell_type": "markdown",
   "metadata": {},
   "source": [
    "When finished, you can close the environment."
   ]
  },
  {
   "cell_type": "code",
   "execution_count": null,
   "metadata": {},
   "outputs": [],
   "source": [
    "env.close()"
   ]
  },
  {
   "cell_type": "code",
   "execution_count": null,
   "metadata": {},
   "outputs": [],
   "source": []
  }
 ],
 "metadata": {
  "kernelspec": {
   "display_name": "Python 3",
   "language": "python",
   "name": "python3"
  },
  "language_info": {
   "codemirror_mode": {
    "name": "ipython",
    "version": 3
   },
   "file_extension": ".py",
   "mimetype": "text/x-python",
   "name": "python",
   "nbconvert_exporter": "python",
   "pygments_lexer": "ipython3",
   "version": "3.6.13"
  }
 },
 "nbformat": 4,
 "nbformat_minor": 2
}
