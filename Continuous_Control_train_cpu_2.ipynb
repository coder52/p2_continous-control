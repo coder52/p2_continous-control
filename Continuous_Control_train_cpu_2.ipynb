{
 "cells": [
  {
   "cell_type": "markdown",
   "metadata": {},
   "source": [
    "# Continuous Control\n",
    "\n",
    "---\n",
    "\n",
    "In this notebook, you will learn how to use the Unity ML-Agents environment for the second project of the [Deep Reinforcement Learning Nanodegree](https://www.udacity.com/course/deep-reinforcement-learning-nanodegree--nd893) program.\n",
    "\n",
    "### 1. Start the Environment\n",
    "\n",
    "We begin by importing the necessary packages.  If the code cell below returns an error, please revisit the project instructions to double-check that you have installed [Unity ML-Agents](https://github.com/Unity-Technologies/ml-agents/blob/master/docs/Installation.md) and [NumPy](http://www.numpy.org/)."
   ]
  },
  {
   "cell_type": "code",
   "execution_count": 1,
   "metadata": {},
   "outputs": [],
   "source": [
    "from unityagents import UnityEnvironment\n",
    "import numpy as np"
   ]
  },
  {
   "cell_type": "markdown",
   "metadata": {},
   "source": [
    "Next, we will start the environment!  **_Before running the code cell below_**, change the `file_name` parameter to match the location of the Unity environment that you downloaded.\n",
    "\n",
    "- **Mac**: `\"path/to/Reacher.app\"`\n",
    "- **Windows** (x86): `\"path/to/Reacher_Windows_x86/Reacher.exe\"`\n",
    "- **Windows** (x86_64): `\"path/to/Reacher_Windows_x86_64/Reacher.exe\"`\n",
    "- **Linux** (x86): `\"path/to/Reacher_Linux/Reacher.x86\"`\n",
    "- **Linux** (x86_64): `\"path/to/Reacher_Linux/Reacher.x86_64\"`\n",
    "- **Linux** (x86, headless): `\"path/to/Reacher_Linux_NoVis/Reacher.x86\"`\n",
    "- **Linux** (x86_64, headless): `\"path/to/Reacher_Linux_NoVis/Reacher.x86_64\"`\n",
    "\n",
    "For instance, if you are using a Mac, then you downloaded `Reacher.app`.  If this file is in the same folder as the notebook, then the line below should appear as follows:\n",
    "```\n",
    "env = UnityEnvironment(file_name=\"Reacher.app\")\n",
    "```"
   ]
  },
  {
   "cell_type": "code",
   "execution_count": 2,
   "metadata": {
    "scrolled": true
   },
   "outputs": [
    {
     "name": "stderr",
     "output_type": "stream",
     "text": [
      "INFO:unityagents:\n",
      "'Academy' started successfully!\n",
      "Unity Academy name: Academy\n",
      "        Number of Brains: 1\n",
      "        Number of External Brains : 1\n",
      "        Lesson number : 0\n",
      "        Reset Parameters :\n",
      "\t\tgoal_speed -> 1.0\n",
      "\t\tgoal_size -> 5.0\n",
      "Unity brain name: ReacherBrain\n",
      "        Number of Visual Observations (per agent): 0\n",
      "        Vector Observation space type: continuous\n",
      "        Vector Observation space size (per agent): 33\n",
      "        Number of stacked Vector Observation: 1\n",
      "        Vector Action space type: continuous\n",
      "        Vector Action space size (per agent): 4\n",
      "        Vector Action descriptions: , , , \n"
     ]
    }
   ],
   "source": [
    "env = UnityEnvironment(file_name='Reacher_Windows_x86_64_1agent/Reacher.app')"
   ]
  },
  {
   "cell_type": "markdown",
   "metadata": {},
   "source": [
    "Environments contain **_brains_** which are responsible for deciding the actions of their associated agents. Here we check for the first brain available, and set it as the default brain we will be controlling from Python."
   ]
  },
  {
   "cell_type": "code",
   "execution_count": 3,
   "metadata": {},
   "outputs": [],
   "source": [
    "# get the default brain\n",
    "brain_name = env.brain_names[0]\n",
    "brain = env.brains[brain_name]"
   ]
  },
  {
   "cell_type": "markdown",
   "metadata": {},
   "source": [
    "### 2. Examine the State and Action Spaces\n",
    "\n",
    "In this environment, a double-jointed arm can move to target locations. A reward of `+0.1` is provided for each step that the agent's hand is in the goal location. Thus, the goal of your agent is to maintain its position at the target location for as many time steps as possible.\n",
    "\n",
    "The observation space consists of `33` variables corresponding to position, rotation, velocity, and angular velocities of the arm.  Each action is a vector with four numbers, corresponding to torque applicable to two joints.  Every entry in the action vector must be a number between `-1` and `1`.\n",
    "\n",
    "Run the code cell below to print some information about the environment."
   ]
  },
  {
   "cell_type": "code",
   "execution_count": 4,
   "metadata": {},
   "outputs": [
    {
     "name": "stdout",
     "output_type": "stream",
     "text": [
      "Number of agents: 1\n",
      "Size of each action: 4\n",
      "There are 1 agents. Each observes a state with length: 33\n",
      "The state for the first agent looks like: [ 0.00000000e+00 -4.00000000e+00  0.00000000e+00  1.00000000e+00\n",
      " -0.00000000e+00 -0.00000000e+00 -4.37113883e-08  0.00000000e+00\n",
      "  0.00000000e+00  0.00000000e+00  0.00000000e+00  0.00000000e+00\n",
      "  0.00000000e+00  0.00000000e+00 -1.00000000e+01  0.00000000e+00\n",
      "  1.00000000e+00 -0.00000000e+00 -0.00000000e+00 -4.37113883e-08\n",
      "  0.00000000e+00  0.00000000e+00  0.00000000e+00  0.00000000e+00\n",
      "  0.00000000e+00  0.00000000e+00  5.75471878e+00 -1.00000000e+00\n",
      "  5.55726671e+00  0.00000000e+00  1.00000000e+00  0.00000000e+00\n",
      " -1.68164849e-01]\n"
     ]
    }
   ],
   "source": [
    "# reset the environment\n",
    "env_info = env.reset(train_mode=True)[brain_name]\n",
    "\n",
    "# number of agents\n",
    "num_agents = len(env_info.agents)\n",
    "print('Number of agents:', num_agents)\n",
    "\n",
    "# size of each action\n",
    "action_size = brain.vector_action_space_size\n",
    "print('Size of each action:', action_size)\n",
    "\n",
    "# examine the state space \n",
    "states = env_info.vector_observations\n",
    "state_size = states.shape[1]\n",
    "print('There are {} agents. Each observes a state with length: {}'.format(states.shape[0], state_size))\n",
    "print('The state for the first agent looks like:', states[0])"
   ]
  },
  {
   "cell_type": "markdown",
   "metadata": {},
   "source": [
    "### 3. Take Random Actions in the Environment\n",
    "\n",
    "In the next code cell, you will learn how to use the Python API to control the agent and receive feedback from the environment.\n",
    "\n",
    "Once this cell is executed, you will watch the agent's performance, if it selects an action at random with each time step.  A window should pop up that allows you to observe the agent, as it moves through the environment.  \n",
    "\n",
    "Of course, as part of the project, you'll have to change the code so that the agent is able to use its experience to gradually choose better actions when interacting with the environment!"
   ]
  },
  {
   "cell_type": "code",
   "execution_count": 5,
   "metadata": {},
   "outputs": [
    {
     "name": "stdout",
     "output_type": "stream",
     "text": [
      "Total score (averaged over agents) this episode: 0.04999999888241291\n"
     ]
    }
   ],
   "source": [
    "env_info = env.reset(train_mode=False)[brain_name]     # reset the environment    \n",
    "states = env_info.vector_observations                  # get the current state (for each agent)\n",
    "scores = np.zeros(num_agents)                          # initialize the score (for each agent)\n",
    "while True:\n",
    "    actions = np.random.randn(num_agents, action_size) # select an action (for each agent)\n",
    "    actions = np.clip(actions, -1, 1)                  # all actions between -1 and 1\n",
    "    env_info = env.step(actions)[brain_name]           # send all actions to tne environment\n",
    "    next_states = env_info.vector_observations         # get next state (for each agent)\n",
    "    rewards = env_info.rewards                         # get reward (for each agent)\n",
    "    dones = env_info.local_done                        # see if episode finished\n",
    "    scores += env_info.rewards                         # update the score (for each agent)\n",
    "    states = next_states                               # roll over states to next time step\n",
    "    if np.any(dones):                                  # exit loop if episode finished\n",
    "        break\n",
    "print('Total score (averaged over agents) this episode: {}'.format(np.mean(scores)))"
   ]
  },
  {
   "cell_type": "markdown",
   "metadata": {},
   "source": [
    "### 4. It's Your Turn!\n",
    "\n",
    "Now it's your turn to train your own agent to solve the environment!  When training the environment, set `train_mode=True`, so that the line for resetting the environment looks like the following:\n",
    "```python\n",
    "env_info = env.reset(train_mode=True)[brain_name]\n",
    "```"
   ]
  },
  {
   "cell_type": "raw",
   "metadata": {},
   "source": [
    "#Parameters\n",
    "BUFFER_SIZE = int(2e5)  # replay buffer size\n",
    "BATCH_SIZE = 128        # minibatch size\n",
    "GAMMA = 0.99            # discount factor\n",
    "TAU = 1e-3              # for soft update of target parameters\n",
    "LR_ACTOR = 1e-6         # learning rate of the actor\n",
    "LR_CRITIC = 1e-5        # learning rate of the critic\n",
    "WEIGHT_DECAY = 0        # L2 weight decay"
   ]
  },
  {
   "cell_type": "code",
   "execution_count": 6,
   "metadata": {},
   "outputs": [],
   "source": [
    "from collections import deque\n",
    "from ddpg_agent import Agent\n",
    "import torch\n",
    "\n",
    "state_size=env_info.vector_observations[0].shape[0]\n",
    "action_size=brain.vector_action_space_size\n",
    "\n",
    "agent = Agent(state_size=state_size, action_size=action_size, random_seed=100)"
   ]
  },
  {
   "cell_type": "code",
   "execution_count": null,
   "metadata": {
    "scrolled": true
   },
   "outputs": [
    {
     "name": "stderr",
     "output_type": "stream",
     "text": [
      "C:\\Users\\sahin\\miniconda3\\envs\\p2_continous-control\\lib\\site-packages\\torch\\nn\\functional.py:1795: UserWarning: nn.functional.tanh is deprecated. Use torch.tanh instead.\n",
      "  warnings.warn(\"nn.functional.tanh is deprecated. Use torch.tanh instead.\")\n"
     ]
    },
    {
     "name": "stdout",
     "output_type": "stream",
     "text": [
      "Episode 10\tAverage Score: 0.19\n",
      "Episode 20\tAverage Score: 0.29\n",
      "Episode 30\tAverage Score: 0.36\n",
      "Episode 40\tAverage Score: 0.36\n",
      "Episode 50\tAverage Score: 0.40\n",
      "Episode 60\tAverage Score: 0.42\n",
      "Episode 70\tAverage Score: 0.48\n",
      "Episode 80\tAverage Score: 0.55\n",
      "Episode 90\tAverage Score: 0.60\n",
      "Episode 100\tAverage Score: 0.63\n",
      "Episode 110\tAverage Score: 0.72\n",
      "Episode 120\tAverage Score: 0.86\n",
      "Episode 130\tAverage Score: 1.02\n",
      "Episode 140\tAverage Score: 1.20\n",
      "Episode 150\tAverage Score: 1.43\n",
      "Episode 160\tAverage Score: 1.62\n",
      "Episode 170\tAverage Score: 1.78\n",
      "Episode 180\tAverage Score: 2.04\n",
      "Episode 190\tAverage Score: 2.37\n",
      "Episode 200\tAverage Score: 2.76\n",
      "Episode 210\tAverage Score: 3.00\n",
      "Episode 220\tAverage Score: 3.04\n",
      "Episode 230\tAverage Score: 3.27\n",
      "Episode 240\tAverage Score: 3.41\n",
      "Episode 250\tAverage Score: 3.80\n",
      "Episode 260\tAverage Score: 4.18\n",
      "Episode 270\tAverage Score: 4.38\n",
      "Episode 280\tAverage Score: 4.69\n",
      "Episode 290\tAverage Score: 4.94\n",
      "Episode 300\tAverage Score: 5.14\n",
      "Episode 310\tAverage Score: 5.56\n",
      "Episode 320\tAverage Score: 6.24\n",
      "Episode 330\tAverage Score: 6.62\n",
      "Episode 340\tAverage Score: 7.29\n",
      "Episode 350\tAverage Score: 7.42\n",
      "Episode 360\tAverage Score: 7.78\n",
      "Episode 370\tAverage Score: 8.45\n",
      "Episode 380\tAverage Score: 8.79\n",
      "Episode 390\tAverage Score: 9.08\n",
      "Episode 400\tAverage Score: 9.38\n",
      "Episode 410\tAverage Score: 9.65\n",
      "Episode 420\tAverage Score: 10.12\n",
      "Episode 430\tAverage Score: 10.29\n",
      "Episode 440\tAverage Score: 10.36\n",
      "Episode 450\tAverage Score: 10.69\n",
      "Episode 460\tAverage Score: 11.16\n",
      "Episode 470\tAverage Score: 11.38\n",
      "Episode 480\tAverage Score: 11.68\n",
      "Episode 490\tAverage Score: 11.89\n",
      "Episode 500\tAverage Score: 12.06\n",
      "Episode 510\tAverage Score: 12.19\n",
      "Episode 520\tAverage Score: 12.23\n",
      "Episode 530\tAverage Score: 12.66\n",
      "Episode 540\tAverage Score: 13.03\n",
      "Episode 550\tAverage Score: 13.45\n",
      "Episode 560\tAverage Score: 13.52\n",
      "Episode 570\tAverage Score: 13.74\n",
      "Episode 580\tAverage Score: 14.11\n",
      "Episode 590\tAverage Score: 14.55\n",
      "Episode 600\tAverage Score: 15.03\n",
      "Episode 610\tAverage Score: 15.32\n",
      "Episode 620\tAverage Score: 15.50\n",
      "Episode 630\tAverage Score: 15.80\n",
      "Episode 640\tAverage Score: 16.05\n",
      "Episode 650\tAverage Score: 16.54\n",
      "Episode 660\tAverage Score: 16.88\n",
      "Episode 670\tAverage Score: 17.50\n",
      "Episode 680\tAverage Score: 17.79\n",
      "Episode 690\tAverage Score: 18.08\n",
      "Episode 700\tAverage Score: 18.70\n",
      "Episode 710\tAverage Score: 19.29\n",
      "Episode 720\tAverage Score: 19.50\n",
      "Episode 730\tAverage Score: 19.78\n",
      "Episode 740\tAverage Score: 20.37\n",
      "Episode 750\tAverage Score: 20.32\n",
      "Episode 760\tAverage Score: 20.47\n",
      "Episode 770\tAverage Score: 20.37\n",
      "Episode 780\tAverage Score: 20.47\n",
      "Episode 790\tAverage Score: 20.68\n",
      "Episode 800\tAverage Score: 20.28\n",
      "Episode 810\tAverage Score: 20.40\n",
      "Episode 820\tAverage Score: 20.59\n",
      "Episode 830\tAverage Score: 20.80\n",
      "Episode 840\tAverage Score: 20.49\n",
      "Episode 850\tAverage Score: 20.71\n",
      "Episode 860\tAverage Score: 20.98\n",
      "Episode 870\tAverage Score: 20.97\n",
      "Episode 880\tAverage Score: 21.00\n",
      "Episode 890\tAverage Score: 21.21\n",
      "Episode 900\tAverage Score: 21.51\n",
      "Episode 910\tAverage Score: 21.30\n",
      "Episode 920\tAverage Score: 21.65\n",
      "Episode 930\tAverage Score: 21.80\n",
      "Episode 940\tAverage Score: 22.19\n",
      "Episode 950\tAverage Score: 22.12\n",
      "Episode 960\tAverage Score: 22.09\n",
      "Episode 970\tAverage Score: 22.48\n",
      "Episode 980\tAverage Score: 22.40\n",
      "Episode 990\tAverage Score: 22.40\n",
      "Episode 1000\tAverage Score: 22.98\n",
      "Episode 1010\tAverage Score: 23.60\n",
      "Episode 1020\tAverage Score: 23.67\n",
      "Episode 1030\tAverage Score: 23.82\n",
      "Episode 1040\tAverage Score: 23.96\n",
      "Episode 1050\tAverage Score: 24.05\n",
      "Episode 1060\tAverage Score: 24.28\n",
      "Episode 1070\tAverage Score: 24.39\n",
      "Episode 1080\tAverage Score: 24.87\n",
      "Episode 1090\tAverage Score: 25.23\n",
      "Episode 1100\tAverage Score: 25.16\n",
      "Episode 1110\tAverage Score: 25.43\n",
      "Episode 1120\tAverage Score: 25.64\n",
      "Episode 1130\tAverage Score: 25.78\n",
      "Episode 1140\tAverage Score: 25.68\n",
      "Episode 1150\tAverage Score: 26.01\n",
      "Episode 1160\tAverage Score: 26.07\n",
      "Episode 1170\tAverage Score: 26.22\n",
      "Episode 1180\tAverage Score: 26.48\n",
      "Episode 1190\tAverage Score: 26.47\n",
      "Episode 1200\tAverage Score: 26.30\n",
      "Episode 1210\tAverage Score: 26.12\n",
      "Episode 1220\tAverage Score: 26.40\n",
      "Episode 1230\tAverage Score: 26.37\n",
      "Episode 1240\tAverage Score: 26.71\n",
      "Episode 1250\tAverage Score: 26.69\n",
      "Episode 1260\tAverage Score: 26.97\n",
      "Episode 1270\tAverage Score: 27.05\n",
      "Episode 1280\tAverage Score: 27.00\n",
      "Episode 1290\tAverage Score: 27.00\n",
      "Episode 1300\tAverage Score: 27.49\n",
      "Episode 1310\tAverage Score: 27.63\n",
      "Episode 1311\tAverage Score: 27.71"
     ]
    }
   ],
   "source": [
    "def ddpg(n_episodes=2000, max_t=1000, print_every=10, target_average_score=31):       \n",
    "    scores_deque = deque(maxlen=100)\n",
    "    scores_list = []\n",
    "    average_scores = []\n",
    "    for i_episode in range(1, n_episodes+1):\n",
    "        env_info = env.reset(train_mode=True)[brain_name]\n",
    "        states = env_info.vector_observations\n",
    "        agent.reset()\n",
    "        scores = np.zeros(num_agents)\n",
    "        for t in range(max_t):\n",
    "            actions = agent.act(states)\n",
    "            env_info = env.step(actions)[brain_name]\n",
    "            next_states = env_info.vector_observations\n",
    "            rewards = env_info.rewards                         \n",
    "            dones = env_info.local_done            \n",
    "\n",
    "            for i in range(num_agents):\n",
    "                agent.step(states[i], actions[i], rewards[i], next_states[i], dones[i])\n",
    "            \n",
    "            scores += env_info.rewards                         \n",
    "            states = next_states  \n",
    "            if np.any(dones):\n",
    "                break\n",
    "        \n",
    "        scores_deque.append(np.mean(scores))\n",
    "        scores_list.append(scores)        \n",
    "        \n",
    "        # Sigma decay\n",
    "        sigma_decay = 0.995\n",
    "        min_sigma = 0.05\n",
    "        if agent.noise.sigma > min_sigma:\n",
    "            agent.noise.decay_sigma(sigma_decay)\n",
    "            \n",
    "        average_score = np.mean(scores_deque)\n",
    "        average_scores.append(average_score)\n",
    "        print('\\rEpisode {}\\tAverage Score: {:.2f}'.format(i_episode, average_score), end=\"\")\n",
    "        if i_episode % print_every == 0:\n",
    "            print('\\rEpisode {}\\tAverage Score: {:.2f}'.format(i_episode, average_score))  \n",
    "        if np.mean(scores_deque) > target_average_score:\n",
    "            print('\\nEnvironment solved in {:d} episodes!\\tAverage Score: {:.2f}'.format(i_episode, average_score))\n",
    "            torch.save({\n",
    "                'actor_state_dict': agent.actor_local.state_dict(),\n",
    "                'critic_state_dict': agent.critic_local.state_dict(),\n",
    "                'actor_optimizer_state_dict': agent.actor_optimizer.state_dict(),\n",
    "                'critic_optimizer_state_dict': agent.critic_optimizer.state_dict(),\n",
    "                'episode': i_episode,\n",
    "                'score': average_score,\n",
    "            }, 'checkpoint_cpu_2.pth')\n",
    "            \n",
    "            break;        \n",
    "                   \n",
    "    return scores_list, average_scores\n",
    "\n",
    "scores, steady_scores = ddpg()"
   ]
  },
  {
   "cell_type": "code",
   "execution_count": null,
   "metadata": {},
   "outputs": [],
   "source": [
    "print(scores)"
   ]
  },
  {
   "cell_type": "code",
   "execution_count": null,
   "metadata": {},
   "outputs": [],
   "source": [
    "import matplotlib.pyplot as plt\n",
    "\n",
    "fig = plt.figure()\n",
    "ax = fig.add_subplot(111)\n",
    "plt.plot(np.arange(1, len(scores)+1), scores, color=\"grey\")\n",
    "plt.plot(np.arange(1, len(scores)+1), steady_scores, color=\"red\")\n",
    "plt.ylabel('Score')\n",
    "plt.xlabel('Episode #')\n",
    "plt.show()"
   ]
  },
  {
   "cell_type": "markdown",
   "metadata": {},
   "source": [
    "# Test the agent"
   ]
  },
  {
   "cell_type": "code",
   "execution_count": 7,
   "metadata": {},
   "outputs": [],
   "source": [
    "# Load models\n",
    "checkpoint = torch.load('checkpoint_cpu_2.pth')\n",
    "\n",
    "agent.actor_local.load_state_dict(checkpoint['actor_state_dict'])\n",
    "agent.critic_local.load_state_dict(checkpoint['critic_state_dict'])\n",
    "agent.actor_optimizer.load_state_dict(checkpoint['actor_optimizer_state_dict'])\n",
    "agent.critic_optimizer.load_state_dict(checkpoint['critic_optimizer_state_dict'])"
   ]
  },
  {
   "cell_type": "code",
   "execution_count": 9,
   "metadata": {},
   "outputs": [
    {
     "data": {
      "text/plain": [
       "1652"
      ]
     },
     "execution_count": 9,
     "metadata": {},
     "output_type": "execute_result"
    }
   ],
   "source": [
    "checkpoint['episode']"
   ]
  },
  {
   "cell_type": "code",
   "execution_count": 10,
   "metadata": {},
   "outputs": [
    {
     "data": {
      "text/plain": [
       "31.05069930596277"
      ]
     },
     "execution_count": 10,
     "metadata": {},
     "output_type": "execute_result"
    }
   ],
   "source": [
    "checkpoint['score']"
   ]
  },
  {
   "cell_type": "code",
   "execution_count": 8,
   "metadata": {},
   "outputs": [
    {
     "name": "stderr",
     "output_type": "stream",
     "text": [
      "C:\\Users\\sahin\\miniconda3\\envs\\p2_continous-control\\lib\\site-packages\\torch\\nn\\functional.py:1795: UserWarning: nn.functional.tanh is deprecated. Use torch.tanh instead.\n",
      "  warnings.warn(\"nn.functional.tanh is deprecated. Use torch.tanh instead.\")\n"
     ]
    },
    {
     "name": "stdout",
     "output_type": "stream",
     "text": [
      "Total score (averaged over agents) this episode: 38.239999145269394\n"
     ]
    }
   ],
   "source": [
    "env_info = env.reset(train_mode=False)[brain_name]     # reset the environment    \n",
    "states = env_info.vector_observations                  # get the current state (for each agent)\n",
    "scores = np.zeros(num_agents)                          # initialize the score (for each agent)\n",
    "while True:\n",
    "    actions = agent.act(states, add_noise=False)\n",
    "#     actions = np.clip(actions, -1, 1)\n",
    "    env_info = env.step(actions)[brain_name]           # send all actions to tne environment\n",
    "    next_states = env_info.vector_observations         # get next state (for each agent)\n",
    "    rewards = env_info.rewards                         # get reward (for each agent)\n",
    "    dones = env_info.local_done                        # see if episode finished\n",
    "    scores += env_info.rewards                         # update the score (for each agent)\n",
    "    states = next_states                               # roll over states to next time step\n",
    "    if np.any(dones):                                  # exit loop if episode finished\n",
    "        break\n",
    "print('Total score (averaged over agents) this episode: {}'.format(np.mean(scores)))"
   ]
  },
  {
   "cell_type": "markdown",
   "metadata": {},
   "source": [
    "When finished, you can close the environment."
   ]
  },
  {
   "cell_type": "code",
   "execution_count": 11,
   "metadata": {},
   "outputs": [],
   "source": [
    "env.close()"
   ]
  },
  {
   "cell_type": "code",
   "execution_count": null,
   "metadata": {},
   "outputs": [],
   "source": []
  }
 ],
 "metadata": {
  "kernelspec": {
   "display_name": "Python 3",
   "language": "python",
   "name": "python3"
  },
  "language_info": {
   "codemirror_mode": {
    "name": "ipython",
    "version": 3
   },
   "file_extension": ".py",
   "mimetype": "text/x-python",
   "name": "python",
   "nbconvert_exporter": "python",
   "pygments_lexer": "ipython3",
   "version": "3.6.13"
  }
 },
 "nbformat": 4,
 "nbformat_minor": 2
}
